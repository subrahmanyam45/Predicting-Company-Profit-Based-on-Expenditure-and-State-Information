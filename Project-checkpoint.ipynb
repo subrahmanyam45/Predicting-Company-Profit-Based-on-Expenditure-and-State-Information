{
 "cells": [
  {
   "cell_type": "markdown",
   "id": "b95f33c7-f0f9-438b-9205-e6dc59eb6efb",
   "metadata": {},
   "source": [
    "# Predicting Company Profit Based on Expenditure and State Information"
   ]
  },
  {
   "cell_type": "markdown",
   "id": "dac182c1",
   "metadata": {},
   "source": [
    "# Project Problem Statement"
   ]
  },
  {
   "cell_type": "markdown",
   "id": "c9cc2fce",
   "metadata": {},
   "source": [
    "Understanding the factors that contribute to a company's profitability is critical for strategic planning and decision-making. Companies allocate their budgets across various areas such as productivity enhancements, management expenses, and promotional activities with the expectation that these investments will lead to increased profits. This dataset contains data on the expenditures in these areas for various companies, along with their respective states and resulting profit figures."
   ]
  },
  {
   "cell_type": "markdown",
   "id": "7acaac54",
   "metadata": {},
   "source": [
    "# Objective:"
   ]
  },
  {
   "cell_type": "markdown",
   "id": "9d133ac2",
   "metadata": {},
   "source": [
    "The goal of this analysis is to build a predictive model that can accurately forecast a company's profit based on its expenditures in productivity, management, and promotions, as well as its state of operation. This model will aid in identifying the key drivers of profit and help companies optimize their budget allocations to maximize profitability."
   ]
  },
  {
   "cell_type": "code",
   "execution_count": 2,
   "id": "76c9379f-8942-4f3a-abde-7db940a38c05",
   "metadata": {},
   "outputs": [],
   "source": [
    "import pandas as pd\n",
    "import numpy as np\n",
    "import seaborn as sns\n",
    "import matplotlib.pyplot as plt"
   ]
  },
  {
   "cell_type": "code",
   "execution_count": 3,
   "id": "adbf5d0d-602c-4c7f-9303-660535ba2dca",
   "metadata": {},
   "outputs": [],
   "source": [
    "a=pd.read_csv(\"companies.csv\")"
   ]
  },
  {
   "cell_type": "code",
   "execution_count": 4,
   "id": "287c1969-8014-429b-9411-58211a19f1ca",
   "metadata": {},
   "outputs": [
    {
     "data": {
      "text/html": [
       "<div>\n",
       "<style scoped>\n",
       "    .dataframe tbody tr th:only-of-type {\n",
       "        vertical-align: middle;\n",
       "    }\n",
       "\n",
       "    .dataframe tbody tr th {\n",
       "        vertical-align: top;\n",
       "    }\n",
       "\n",
       "    .dataframe thead th {\n",
       "        text-align: right;\n",
       "    }\n",
       "</style>\n",
       "<table border=\"1\" class=\"dataframe\">\n",
       "  <thead>\n",
       "    <tr style=\"text-align: right;\">\n",
       "      <th></th>\n",
       "      <th>Productivity_Exp</th>\n",
       "      <th>Management_Exp</th>\n",
       "      <th>Promotions_Exp</th>\n",
       "      <th>State</th>\n",
       "      <th>Profit</th>\n",
       "    </tr>\n",
       "  </thead>\n",
       "  <tbody>\n",
       "    <tr>\n",
       "      <th>0</th>\n",
       "      <td>220349.20</td>\n",
       "      <td>236897.80</td>\n",
       "      <td>521784.10</td>\n",
       "      <td>Texas</td>\n",
       "      <td>242261.83</td>\n",
       "    </tr>\n",
       "    <tr>\n",
       "      <th>1</th>\n",
       "      <td>217597.70</td>\n",
       "      <td>251377.59</td>\n",
       "      <td>493898.53</td>\n",
       "      <td>Illinois</td>\n",
       "      <td>241792.06</td>\n",
       "    </tr>\n",
       "    <tr>\n",
       "      <th>2</th>\n",
       "      <td>208441.51</td>\n",
       "      <td>201145.55</td>\n",
       "      <td>457934.54</td>\n",
       "      <td>Washington</td>\n",
       "      <td>241050.39</td>\n",
       "    </tr>\n",
       "    <tr>\n",
       "      <th>3</th>\n",
       "      <td>199372.41</td>\n",
       "      <td>218671.85</td>\n",
       "      <td>433199.62</td>\n",
       "      <td>Texas</td>\n",
       "      <td>232901.99</td>\n",
       "    </tr>\n",
       "    <tr>\n",
       "      <th>4</th>\n",
       "      <td>197107.34</td>\n",
       "      <td>191391.77</td>\n",
       "      <td>416168.42</td>\n",
       "      <td>Washington</td>\n",
       "      <td>216187.94</td>\n",
       "    </tr>\n",
       "  </tbody>\n",
       "</table>\n",
       "</div>"
      ],
      "text/plain": [
       "   Productivity_Exp  Management_Exp  Promotions_Exp       State     Profit\n",
       "0         220349.20       236897.80       521784.10       Texas  242261.83\n",
       "1         217597.70       251377.59       493898.53    Illinois  241792.06\n",
       "2         208441.51       201145.55       457934.54  Washington  241050.39\n",
       "3         199372.41       218671.85       433199.62       Texas  232901.99\n",
       "4         197107.34       191391.77       416168.42  Washington  216187.94"
      ]
     },
     "execution_count": 4,
     "metadata": {},
     "output_type": "execute_result"
    }
   ],
   "source": [
    "# Display the first few rows of the dataset\n",
    "a.head()"
   ]
  },
  {
   "cell_type": "markdown",
   "id": "5d0326fd-a7f6-493b-b539-6dc521a0972c",
   "metadata": {},
   "source": [
    "# Dataset Description"
   ]
  },
  {
   "cell_type": "markdown",
   "id": "dc8a4382-4410-4503-99cf-b62e5c73b775",
   "metadata": {},
   "source": [
    "**The dataset consists of the following columns:**"
   ]
  },
  {
   "cell_type": "markdown",
   "id": "2387fd49",
   "metadata": {},
   "source": [
    "\n",
    "**Productivity_Ex :** Amount spent on productivity-related expenses (in thousands of dollars).                             \n",
    "**Management_Exp:** Amount spent on management-related expenses (in thousands of dollars).                                  \n",
    "**Promotions_Exp:** Amount spent on promotional activities (in thousands of dollars).                             \n",
    "**State:** The state in which the company operates.                                                          \n",
    "**Profit:** The profit of the company (in thousands of dollars).                                                     \n"
   ]
  },
  {
   "cell_type": "markdown",
   "id": "46cbad03",
   "metadata": {},
   "source": [
    "# Initial checkup"
   ]
  },
  {
   "cell_type": "code",
   "execution_count": 5,
   "id": "522dca47-184a-4511-895b-07bbf8a520d7",
   "metadata": {},
   "outputs": [
    {
     "name": "stdout",
     "output_type": "stream",
     "text": [
      "<class 'pandas.core.frame.DataFrame'>\n",
      "RangeIndex: 50 entries, 0 to 49\n",
      "Data columns (total 5 columns):\n",
      " #   Column            Non-Null Count  Dtype  \n",
      "---  ------            --------------  -----  \n",
      " 0   Productivity_Exp  50 non-null     float64\n",
      " 1   Management_Exp    50 non-null     float64\n",
      " 2   Promotions_Exp    50 non-null     float64\n",
      " 3   State             50 non-null     object \n",
      " 4   Profit            50 non-null     float64\n",
      "dtypes: float64(4), object(1)\n",
      "memory usage: 2.1+ KB\n"
     ]
    }
   ],
   "source": [
    "a.info()"
   ]
  },
  {
   "cell_type": "markdown",
   "id": "bd6e7b76",
   "metadata": {},
   "source": [
    "# Asking questions to data"
   ]
  },
  {
   "cell_type": "raw",
   "id": "efa24da0",
   "metadata": {},
   "source": [
    "1).Distribution of companies across different states.\n",
    "2).Descriptive statistics summary\n",
    "3).Box plots for each numerical feature\n",
    "4).shows the kdeplot of Productivity_Exp data\n",
    "5).Correlation Analysis\n",
    "6).train_test_split\n",
    "7).Linear Regression\n",
    "8).Training the Model on Training Data\n",
    "9).Mean Absolute Error (MAE)\n",
    "10).Root Mean Squared Error (RMSE)\n",
    "11).Dictionary"
   ]
  },
  {
   "cell_type": "code",
   "execution_count": 6,
   "id": "a3ebf245",
   "metadata": {},
   "outputs": [
    {
     "data": {
      "text/plain": [
       "Texas         34.0\n",
       "Illinois      34.0\n",
       "Washington    32.0\n",
       "Name: State, dtype: float64"
      ]
     },
     "execution_count": 6,
     "metadata": {},
     "output_type": "execute_result"
    }
   ],
   "source": [
    "a[\"State\"].value_counts(normalize=True)*100"
   ]
  },
  {
   "cell_type": "code",
   "execution_count": 7,
   "id": "ffbf2333",
   "metadata": {},
   "outputs": [
    {
     "data": {
      "text/plain": [
       "<Axes: xlabel='State', ylabel='count'>"
      ]
     },
     "execution_count": 7,
     "metadata": {},
     "output_type": "execute_result"
    },
    {
     "data": {
      "image/png": "[encoded data removed]",
      "text/plain": [
       "<Figure size 640x480 with 1 Axes>"
      ]
     },
     "metadata": {},
     "output_type": "display_data"
    }
   ],
   "source": [
    "#Count Plot: 1) Distribution of companies across different states.\n",
    "sns.countplot(a,x='State')"
   ]
  },
  {
   "cell_type": "markdown",
   "id": "30406590",
   "metadata": {},
   "source": [
    "# Exploratory Data Analysis (EDA)"
   ]
  },
  {
   "cell_type": "markdown",
   "id": "d053fdcc",
   "metadata": {},
   "source": [
    "**Descriptive Statistics**"
   ]
  },
  {
   "cell_type": "code",
   "execution_count": 8,
   "id": "8324e88e",
   "metadata": {},
   "outputs": [
    {
     "data": {
      "text/html": [
       "<div>\n",
       "<style scoped>\n",
       "    .dataframe tbody tr th:only-of-type {\n",
       "        vertical-align: middle;\n",
       "    }\n",
       "\n",
       "    .dataframe tbody tr th {\n",
       "        vertical-align: top;\n",
       "    }\n",
       "\n",
       "    .dataframe thead th {\n",
       "        text-align: right;\n",
       "    }\n",
       "</style>\n",
       "<table border=\"1\" class=\"dataframe\">\n",
       "  <thead>\n",
       "    <tr style=\"text-align: right;\">\n",
       "      <th></th>\n",
       "      <th>Productivity_Exp</th>\n",
       "      <th>Management_Exp</th>\n",
       "      <th>Promotions_Exp</th>\n",
       "      <th>Profit</th>\n",
       "    </tr>\n",
       "  </thead>\n",
       "  <tbody>\n",
       "    <tr>\n",
       "      <th>count</th>\n",
       "      <td>50.000000</td>\n",
       "      <td>50.000000</td>\n",
       "      <td>50.000000</td>\n",
       "      <td>50.000000</td>\n",
       "    </tr>\n",
       "    <tr>\n",
       "      <th>mean</th>\n",
       "      <td>128721.615600</td>\n",
       "      <td>221344.639600</td>\n",
       "      <td>261025.097800</td>\n",
       "      <td>162012.639200</td>\n",
       "    </tr>\n",
       "    <tr>\n",
       "      <th>std</th>\n",
       "      <td>45902.256482</td>\n",
       "      <td>28017.802755</td>\n",
       "      <td>122290.310726</td>\n",
       "      <td>40306.180338</td>\n",
       "    </tr>\n",
       "    <tr>\n",
       "      <th>min</th>\n",
       "      <td>55000.000000</td>\n",
       "      <td>151283.140000</td>\n",
       "      <td>50000.000000</td>\n",
       "      <td>64681.400000</td>\n",
       "    </tr>\n",
       "    <tr>\n",
       "      <th>25%</th>\n",
       "      <td>94936.370000</td>\n",
       "      <td>203730.875000</td>\n",
       "      <td>179300.132500</td>\n",
       "      <td>140138.902500</td>\n",
       "    </tr>\n",
       "    <tr>\n",
       "      <th>50%</th>\n",
       "      <td>128051.080000</td>\n",
       "      <td>222699.795000</td>\n",
       "      <td>262716.240000</td>\n",
       "      <td>157978.190000</td>\n",
       "    </tr>\n",
       "    <tr>\n",
       "      <th>75%</th>\n",
       "      <td>156602.800000</td>\n",
       "      <td>244842.180000</td>\n",
       "      <td>349469.085000</td>\n",
       "      <td>189765.977500</td>\n",
       "    </tr>\n",
       "    <tr>\n",
       "      <th>max</th>\n",
       "      <td>220349.200000</td>\n",
       "      <td>282645.560000</td>\n",
       "      <td>521784.100000</td>\n",
       "      <td>242261.830000</td>\n",
       "    </tr>\n",
       "  </tbody>\n",
       "</table>\n",
       "</div>"
      ],
      "text/plain": [
       "       Productivity_Exp  Management_Exp  Promotions_Exp         Profit\n",
       "count         50.000000       50.000000       50.000000      50.000000\n",
       "mean      128721.615600   221344.639600   261025.097800  162012.639200\n",
       "std        45902.256482    28017.802755   122290.310726   40306.180338\n",
       "min        55000.000000   151283.140000    50000.000000   64681.400000\n",
       "25%        94936.370000   203730.875000   179300.132500  140138.902500\n",
       "50%       128051.080000   222699.795000   262716.240000  157978.190000\n",
       "75%       156602.800000   244842.180000   349469.085000  189765.977500\n",
       "max       220349.200000   282645.560000   521784.100000  242261.830000"
      ]
     },
     "execution_count": 8,
     "metadata": {},
     "output_type": "execute_result"
    }
   ],
   "source": [
    "# 2)Descriptive statistics summary\n",
    "b = a.describe()\n",
    "b"
   ]
  },
  {
   "cell_type": "markdown",
   "id": "134ed727",
   "metadata": {},
   "source": [
    "**Data Visualization**"
   ]
  },
  {
   "cell_type": "code",
   "execution_count": 9,
   "id": "e0db88ed",
   "metadata": {},
   "outputs": [
    {
     "data": {
      "text/plain": [
       "<Axes: >"
      ]
     },
     "execution_count": 9,
     "metadata": {},
     "output_type": "execute_result"
    },
    {
     "data": {
      "image/png": "[encoded data removed]",
      "text/plain": [
       "<Figure size 640x480 with 1 Axes>"
      ]
     },
     "metadata": {},
     "output_type": "display_data"
    }
   ],
   "source": [
    "# 3)Box plots for each numerical feature\n",
    "a.boxplot()"
   ]
  },
  {
   "cell_type": "code",
   "execution_count": 10,
   "id": "886bf46b",
   "metadata": {},
   "outputs": [
    {
     "data": {
      "text/plain": [
       "<Axes: xlabel='Productivity_Exp', ylabel='Density'>"
      ]
     },
     "execution_count": 10,
     "metadata": {},
     "output_type": "execute_result"
    },
    {
     "data": {
      "image/png": "[encoded data removed]",
      "text/plain": [
       "<Figure size 640x480 with 1 Axes>"
      ]
     },
     "metadata": {},
     "output_type": "display_data"
    }
   ],
   "source": [
    "sns.kdeplot(a,x=\"Productivity_Exp\",hue='State')\n",
    "# 4)it shows the kdeplot of Productivity_Exp data"
   ]
  },
  {
   "cell_type": "markdown",
   "id": "53718c24",
   "metadata": {},
   "source": [
    "# scatter plot"
   ]
  },
  {
   "cell_type": "code",
   "execution_count": 11,
   "id": "315a6abc",
   "metadata": {},
   "outputs": [
    {
     "data": {
      "text/plain": [
       "<Axes: xlabel='Productivity_Exp', ylabel='Profit'>"
      ]
     },
     "execution_count": 11,
     "metadata": {},
     "output_type": "execute_result"
    },
    {
     "data": {
      "image/png": "[encoded data removed]",
      "text/plain": [
       "<Figure size 640x480 with 1 Axes>"
      ]
     },
     "metadata": {},
     "output_type": "display_data"
    }
   ],
   "source": [
    "sns.scatterplot(a,x=\"Productivity_Exp\",y=\"Profit\")"
   ]
  },
  {
   "cell_type": "markdown",
   "id": "72780c0c",
   "metadata": {},
   "source": [
    "# 5.Correlation Analysis"
   ]
  },
  {
   "cell_type": "code",
   "execution_count": 12,
   "id": "846c8c68",
   "metadata": {},
   "outputs": [
    {
     "name": "stderr",
     "output_type": "stream",
     "text": [
      "C:\\Users\\Subramanyam\\AppData\\Local\\Temp\\ipykernel_10756\\2724777414.py:2: FutureWarning: The default value of numeric_only in DataFrame.corr is deprecated. In a future version, it will default to False. Select only valid columns or specify the value of numeric_only to silence this warning.\n",
      "  correlation_matrix = a.corr()\n"
     ]
    },
    {
     "data": {
      "text/html": [
       "<div>\n",
       "<style scoped>\n",
       "    .dataframe tbody tr th:only-of-type {\n",
       "        vertical-align: middle;\n",
       "    }\n",
       "\n",
       "    .dataframe tbody tr th {\n",
       "        vertical-align: top;\n",
       "    }\n",
       "\n",
       "    .dataframe thead th {\n",
       "        text-align: right;\n",
       "    }\n",
       "</style>\n",
       "<table border=\"1\" class=\"dataframe\">\n",
       "  <thead>\n",
       "    <tr style=\"text-align: right;\">\n",
       "      <th></th>\n",
       "      <th>Productivity_Exp</th>\n",
       "      <th>Management_Exp</th>\n",
       "      <th>Promotions_Exp</th>\n",
       "      <th>Profit</th>\n",
       "    </tr>\n",
       "  </thead>\n",
       "  <tbody>\n",
       "    <tr>\n",
       "      <th>Productivity_Exp</th>\n",
       "      <td>1.000000</td>\n",
       "      <td>0.241955</td>\n",
       "      <td>0.724248</td>\n",
       "      <td>0.972900</td>\n",
       "    </tr>\n",
       "    <tr>\n",
       "      <th>Management_Exp</th>\n",
       "      <td>0.241955</td>\n",
       "      <td>1.000000</td>\n",
       "      <td>-0.032154</td>\n",
       "      <td>0.200717</td>\n",
       "    </tr>\n",
       "    <tr>\n",
       "      <th>Promotions_Exp</th>\n",
       "      <td>0.724248</td>\n",
       "      <td>-0.032154</td>\n",
       "      <td>1.000000</td>\n",
       "      <td>0.747766</td>\n",
       "    </tr>\n",
       "    <tr>\n",
       "      <th>Profit</th>\n",
       "      <td>0.972900</td>\n",
       "      <td>0.200717</td>\n",
       "      <td>0.747766</td>\n",
       "      <td>1.000000</td>\n",
       "    </tr>\n",
       "  </tbody>\n",
       "</table>\n",
       "</div>"
      ],
      "text/plain": [
       "                  Productivity_Exp  Management_Exp  Promotions_Exp    Profit\n",
       "Productivity_Exp          1.000000        0.241955        0.724248  0.972900\n",
       "Management_Exp            0.241955        1.000000       -0.032154  0.200717\n",
       "Promotions_Exp            0.724248       -0.032154        1.000000  0.747766\n",
       "Profit                    0.972900        0.200717        0.747766  1.000000"
      ]
     },
     "execution_count": 12,
     "metadata": {},
     "output_type": "execute_result"
    }
   ],
   "source": [
    "# Correlation matrix\n",
    "correlation_matrix = a.corr()\n",
    "correlation_matrix"
   ]
  },
  {
   "cell_type": "code",
   "execution_count": 13,
   "id": "fae9b8ac",
   "metadata": {},
   "outputs": [],
   "source": [
    "X = a.iloc[:,0:1]\n",
    "Y = a.iloc[:,-1]"
   ]
  },
  {
   "cell_type": "markdown",
   "id": "3f5399ac",
   "metadata": {},
   "source": [
    "# 6.train_test_split"
   ]
  },
  {
   "cell_type": "markdown",
   "id": "0fdc8300",
   "metadata": {},
   "source": [
    "**this code splits the input data(X) and the output data(Y)**"
   ]
  },
  {
   "cell_type": "code",
   "execution_count": 14,
   "id": "3e95fa7a",
   "metadata": {},
   "outputs": [],
   "source": [
    "from sklearn.model_selection import train_test_split\n",
    "X_train,x_test,y_train,y_test = train_test_split(X,Y,test_size=0.2,random_state=2)"
   ]
  },
  {
   "cell_type": "markdown",
   "id": "876b5ef1",
   "metadata": {},
   "source": [
    "# Model Training"
   ]
  },
  {
   "cell_type": "markdown",
   "id": "0d268932",
   "metadata": {},
   "source": [
    "# 7.Linear Regression:"
   ]
  },
  {
   "cell_type": "markdown",
   "id": "20478df8",
   "metadata": {},
   "source": [
    "It is one of the most commonly used regression algorithm . It is a part of supervised learning because it learns from the labled data."
   ]
  },
  {
   "cell_type": "code",
   "execution_count": 15,
   "id": "8f65b8cc",
   "metadata": {},
   "outputs": [
    {
     "data": {
      "text/plain": [
       "(array([ 0.80571505, -0.02681597,  0.02722806]), 57128.0588439335)"
      ]
     },
     "execution_count": 15,
     "metadata": {},
     "output_type": "execute_result"
    }
   ],
   "source": [
    "from sklearn.linear_model import LinearRegression\n",
    "\n",
    "# Define features and target variable\n",
    "X = a[['Productivity_Exp', 'Management_Exp', 'Promotions_Exp']]\n",
    "y = a['Profit']\n",
    "\n",
    "# Train the model\n",
    "lr = LinearRegression()\n",
    "lr.fit(X, y)\n",
    "\n",
    "# Get the coefficients\n",
    "coefficients = lr.coef_\n",
    "intercept = lr.intercept_\n",
    "\n",
    "coefficients, intercept\n"
   ]
  },
  {
   "cell_type": "code",
   "execution_count": 16,
   "id": "8b102827",
   "metadata": {},
   "outputs": [
    {
     "name": "stderr",
     "output_type": "stream",
     "text": [
      "C:\\Users\\Subramanyam\\anaconda3\\lib\\site-packages\\sklearn\\base.py:420: UserWarning: X does not have valid feature names, but LinearRegression was fitted with feature names\n",
      "  warnings.warn(\n"
     ]
    },
    {
     "data": {
      "text/plain": [
       "array([242521.25289008])"
      ]
     },
     "execution_count": 16,
     "metadata": {},
     "output_type": "execute_result"
    }
   ],
   "source": [
    "lr.predict([[220349.20,236897.80,521784.10]])"
   ]
  },
  {
   "cell_type": "markdown",
   "id": "2ec13148",
   "metadata": {},
   "source": [
    "**This code fits (trains) the linearRegression model \"lr\"to tha data(X_train and y_train)**"
   ]
  },
  {
   "cell_type": "code",
   "execution_count": 17,
   "id": "bb8304d4",
   "metadata": {},
   "outputs": [
    {
     "data": {
      "text/html": [
       "<style>#sk-container-id-1 {color: black;background-color: white;}#sk-container-id-1 pre{padding: 0;}#sk-container-id-1 div.sk-toggleable {background-color: white;}#sk-container-id-1 label.sk-toggleable__label {cursor: pointer;display: block;width: 100%;margin-bottom: 0;padding: 0.3em;box-sizing: border-box;text-align: center;}#sk-container-id-1 label.sk-toggleable__label-arrow:before {content: \"▸\";float: left;margin-right: 0.25em;color: #696969;}#sk-container-id-1 label.sk-toggleable__label-arrow:hover:before {color: black;}#sk-container-id-1 div.sk-estimator:hover label.sk-toggleable__label-arrow:before {color: black;}#sk-container-id-1 div.sk-toggleable__content {max-height: 0;max-width: 0;overflow: hidden;text-align: left;background-color: #f0f8ff;}#sk-container-id-1 div.sk-toggleable__content pre {margin: 0.2em;color: black;border-radius: 0.25em;background-color: #f0f8ff;}#sk-container-id-1 input.sk-toggleable__control:checked~div.sk-toggleable__content {max-height: 200px;max-width: 100%;overflow: auto;}#sk-container-id-1 input.sk-toggleable__control:checked~label.sk-toggleable__label-arrow:before {content: \"▾\";}#sk-container-id-1 div.sk-estimator input.sk-toggleable__control:checked~label.sk-toggleable__label {background-color: #d4ebff;}#sk-container-id-1 div.sk-label input.sk-toggleable__control:checked~label.sk-toggleable__label {background-color: #d4ebff;}#sk-container-id-1 input.sk-hidden--visually {border: 0;clip: rect(1px 1px 1px 1px);clip: rect(1px, 1px, 1px, 1px);height: 1px;margin: -1px;overflow: hidden;padding: 0;position: absolute;width: 1px;}#sk-container-id-1 div.sk-estimator {font-family: monospace;background-color: #f0f8ff;border: 1px dotted black;border-radius: 0.25em;box-sizing: border-box;margin-bottom: 0.5em;}#sk-container-id-1 div.sk-estimator:hover {background-color: #d4ebff;}#sk-container-id-1 div.sk-parallel-item::after {content: \"\";width: 100%;border-bottom: 1px solid gray;flex-grow: 1;}#sk-container-id-1 div.sk-label:hover label.sk-toggleable__label {background-color: #d4ebff;}#sk-container-id-1 div.sk-serial::before {content: \"\";position: absolute;border-left: 1px solid gray;box-sizing: border-box;top: 0;bottom: 0;left: 50%;z-index: 0;}#sk-container-id-1 div.sk-serial {display: flex;flex-direction: column;align-items: center;background-color: white;padding-right: 0.2em;padding-left: 0.2em;position: relative;}#sk-container-id-1 div.sk-item {position: relative;z-index: 1;}#sk-container-id-1 div.sk-parallel {display: flex;align-items: stretch;justify-content: center;background-color: white;position: relative;}#sk-container-id-1 div.sk-item::before, #sk-container-id-1 div.sk-parallel-item::before {content: \"\";position: absolute;border-left: 1px solid gray;box-sizing: border-box;top: 0;bottom: 0;left: 50%;z-index: -1;}#sk-container-id-1 div.sk-parallel-item {display: flex;flex-direction: column;z-index: 1;position: relative;background-color: white;}#sk-container-id-1 div.sk-parallel-item:first-child::after {align-self: flex-end;width: 50%;}#sk-container-id-1 div.sk-parallel-item:last-child::after {align-self: flex-start;width: 50%;}#sk-container-id-1 div.sk-parallel-item:only-child::after {width: 0;}#sk-container-id-1 div.sk-dashed-wrapped {border: 1px dashed gray;margin: 0 0.4em 0.5em 0.4em;box-sizing: border-box;padding-bottom: 0.4em;background-color: white;}#sk-container-id-1 div.sk-label label {font-family: monospace;font-weight: bold;display: inline-block;line-height: 1.2em;}#sk-container-id-1 div.sk-label-container {text-align: center;}#sk-container-id-1 div.sk-container {/* jupyter's `normalize.less` sets `[hidden] { display: none; }` but bootstrap.min.css set `[hidden] { display: none !important; }` so we also need the `!important` here to be able to override the default hidden behavior on the sphinx rendered scikit-learn.org. See: https://github.com/scikit-learn/scikit-learn/issues/21755 */display: inline-block !important;position: relative;}#sk-container-id-1 div.sk-text-repr-fallback {display: none;}</style><div id=\"sk-container-id-1\" class=\"sk-top-container\"><div class=\"sk-text-repr-fallback\"><pre>LinearRegression()</pre><b>In a Jupyter environment, please rerun this cell to show the HTML representation or trust the notebook. <br />On GitHub, the HTML representation is unable to render, please try loading this page with nbviewer.org.</b></div><div class=\"sk-container\" hidden><div class=\"sk-item\"><div class=\"sk-estimator sk-toggleable\"><input class=\"sk-toggleable__control sk-hidden--visually\" id=\"sk-estimator-id-1\" type=\"checkbox\" checked><label for=\"sk-estimator-id-1\" class=\"sk-toggleable__label sk-toggleable__label-arrow\">LinearRegression</label><div class=\"sk-toggleable__content\"><pre>LinearRegression()</pre></div></div></div></div></div>"
      ],
      "text/plain": [
       "LinearRegression()"
      ]
     },
     "execution_count": 17,
     "metadata": {},
     "output_type": "execute_result"
    }
   ],
   "source": [
    "lr.fit(X_train,y_train)"
   ]
  },
  {
   "cell_type": "markdown",
   "id": "4103e47f",
   "metadata": {},
   "source": [
    "# 8.Training the Model on Training Data:"
   ]
  },
  {
   "cell_type": "raw",
   "id": "ff7b6f17",
   "metadata": {},
   "source": [
    "Split data into training and testing sets.\n",
    "Scatter plot showing the relationship between Productivity_Exp and Profit with the fitted regression line."
   ]
  },
  {
   "cell_type": "code",
   "execution_count": 18,
   "id": "e98c72bc",
   "metadata": {},
   "outputs": [
    {
     "data": {
      "text/plain": [
       "Text(0, 0.5, 'Profit')"
      ]
     },
     "execution_count": 18,
     "metadata": {},
     "output_type": "execute_result"
    },
    {
     "data": {
      "image/png": "[encoded data removed]",
      "text/plain": [
       "<Figure size 640x480 with 1 Axes>"
      ]
     },
     "metadata": {},
     "output_type": "display_data"
    }
   ],
   "source": [
    "plt.scatter(a[\"Productivity_Exp\"],a[\"Profit\"])\n",
    "plt.plot(X_train,lr.predict(X_train),color='red')\n",
    "plt.xlabel(\"Productivity_Exp\")\n",
    "plt.ylabel(\"Profit\")"
   ]
  },
  {
   "cell_type": "code",
   "execution_count": 19,
   "id": "578f25de",
   "metadata": {},
   "outputs": [
    {
     "data": {
      "text/plain": [
       "array([140708.19,  92559.73, 153282.38, 199759.96, 184307.35, 242261.83,\n",
       "       115200.33,  99490.75, 131005.76, 158733.99])"
      ]
     },
     "execution_count": 19,
     "metadata": {},
     "output_type": "execute_result"
    }
   ],
   "source": [
    "from sklearn.metrics import mean_absolute_error,mean_squared_error,r2_score\n",
    "y_pred = lr.predict(x_test)\n",
    "y_test.values"
   ]
  },
  {
   "cell_type": "markdown",
   "id": "21e019d5",
   "metadata": {},
   "source": [
    "# 9.Mean Absolute Error (MAE)"
   ]
  },
  {
   "cell_type": "code",
   "execution_count": 20,
   "id": "aa815e2e",
   "metadata": {},
   "outputs": [
    {
     "data": {
      "text/plain": [
       "4495.098253832381"
      ]
     },
     "execution_count": 20,
     "metadata": {},
     "output_type": "execute_result"
    }
   ],
   "source": [
    "mean_absolute_error(y_test,y_pred)"
   ]
  },
  {
   "cell_type": "markdown",
   "id": "b87ce4a9",
   "metadata": {},
   "source": [
    "# 10.Root Mean Squared Error (RMSE)"
   ]
  },
  {
   "cell_type": "code",
   "execution_count": 21,
   "id": "5e6d7b18",
   "metadata": {},
   "outputs": [
    {
     "data": {
      "text/html": [
       "<div>\n",
       "<style scoped>\n",
       "    .dataframe tbody tr th:only-of-type {\n",
       "        vertical-align: middle;\n",
       "    }\n",
       "\n",
       "    .dataframe tbody tr th {\n",
       "        vertical-align: top;\n",
       "    }\n",
       "\n",
       "    .dataframe thead th {\n",
       "        text-align: right;\n",
       "    }\n",
       "</style>\n",
       "<table border=\"1\" class=\"dataframe\">\n",
       "  <thead>\n",
       "    <tr style=\"text-align: right;\">\n",
       "      <th></th>\n",
       "      <th>Actual(y_test)</th>\n",
       "      <th>predicted(y_pred)</th>\n",
       "    </tr>\n",
       "  </thead>\n",
       "  <tbody>\n",
       "    <tr>\n",
       "      <th>36</th>\n",
       "      <td>140708.19</td>\n",
       "      <td>123247.987202</td>\n",
       "    </tr>\n",
       "    <tr>\n",
       "      <th>47</th>\n",
       "      <td>92559.73</td>\n",
       "      <td>98749.981799</td>\n",
       "    </tr>\n",
       "    <tr>\n",
       "      <th>28</th>\n",
       "      <td>153282.38</td>\n",
       "      <td>155202.118359</td>\n",
       "    </tr>\n",
       "    <tr>\n",
       "      <th>9</th>\n",
       "      <td>199759.96</td>\n",
       "      <td>204160.387016</td>\n",
       "    </tr>\n",
       "    <tr>\n",
       "      <th>13</th>\n",
       "      <td>184307.35</td>\n",
       "      <td>177372.956150</td>\n",
       "    </tr>\n",
       "  </tbody>\n",
       "</table>\n",
       "</div>"
      ],
      "text/plain": [
       "    Actual(y_test)  predicted(y_pred)\n",
       "36       140708.19      123247.987202\n",
       "47        92559.73       98749.981799\n",
       "28       153282.38      155202.118359\n",
       "9        199759.96      204160.387016\n",
       "13       184307.35      177372.956150"
      ]
     },
     "execution_count": 21,
     "metadata": {},
     "output_type": "execute_result"
    }
   ],
   "source": [
    "from sklearn.metrics import mean_squared_error\n",
    "MSE = mean_squared_error(y_test,y_pred)\n",
    "RMSE = MSE ** 5\n",
    "data_rmse = {'Actual(y_test)':y_test,'predicted(y_pred)':y_pred}\n",
    "a_rmse = pd.DataFrame(data_rmse)\n",
    "a_rmse.head()"
   ]
  },
  {
   "cell_type": "markdown",
   "id": "06436348",
   "metadata": {},
   "source": [
    "# Accuracy"
   ]
  },
  {
   "cell_type": "code",
   "execution_count": 25,
   "id": "ca9ede32",
   "metadata": {},
   "outputs": [
    {
     "data": {
      "text/plain": [
       "97.81479442510735"
      ]
     },
     "execution_count": 25,
     "metadata": {},
     "output_type": "execute_result"
    }
   ],
   "source": [
    "r2=r2_score(y_test,y_pred)\n",
    "r2*100"
   ]
  },
  {
   "cell_type": "markdown",
   "id": "dd105715",
   "metadata": {},
   "source": [
    "# 11.Dictionary"
   ]
  },
  {
   "cell_type": "code",
   "execution_count": 41,
   "id": "acc26242",
   "metadata": {},
   "outputs": [
    {
     "data": {
      "text/plain": [
       "array(['Texas', 'Illinois', 'Washington'], dtype=object)"
      ]
     },
     "execution_count": 41,
     "metadata": {},
     "output_type": "execute_result"
    }
   ],
   "source": [
    "a.State.unique()"
   ]
  },
  {
   "cell_type": "code",
   "execution_count": 42,
   "id": "bc861f3a",
   "metadata": {},
   "outputs": [
    {
     "data": {
      "text/html": [
       "<div>\n",
       "<style scoped>\n",
       "    .dataframe tbody tr th:only-of-type {\n",
       "        vertical-align: middle;\n",
       "    }\n",
       "\n",
       "    .dataframe tbody tr th {\n",
       "        vertical-align: top;\n",
       "    }\n",
       "\n",
       "    .dataframe thead th {\n",
       "        text-align: right;\n",
       "    }\n",
       "</style>\n",
       "<table border=\"1\" class=\"dataframe\">\n",
       "  <thead>\n",
       "    <tr style=\"text-align: right;\">\n",
       "      <th></th>\n",
       "      <th>Productivity_Exp</th>\n",
       "      <th>Management_Exp</th>\n",
       "      <th>Promotions_Exp</th>\n",
       "      <th>State</th>\n",
       "      <th>Profit</th>\n",
       "      <th>State_encoded</th>\n",
       "    </tr>\n",
       "  </thead>\n",
       "  <tbody>\n",
       "    <tr>\n",
       "      <th>0</th>\n",
       "      <td>220349.20</td>\n",
       "      <td>236897.80</td>\n",
       "      <td>521784.10</td>\n",
       "      <td>Texas</td>\n",
       "      <td>242261.83</td>\n",
       "      <td>1</td>\n",
       "    </tr>\n",
       "    <tr>\n",
       "      <th>1</th>\n",
       "      <td>217597.70</td>\n",
       "      <td>251377.59</td>\n",
       "      <td>493898.53</td>\n",
       "      <td>Illinois</td>\n",
       "      <td>241792.06</td>\n",
       "      <td>2</td>\n",
       "    </tr>\n",
       "    <tr>\n",
       "      <th>2</th>\n",
       "      <td>208441.51</td>\n",
       "      <td>201145.55</td>\n",
       "      <td>457934.54</td>\n",
       "      <td>Washington</td>\n",
       "      <td>241050.39</td>\n",
       "      <td>3</td>\n",
       "    </tr>\n",
       "    <tr>\n",
       "      <th>3</th>\n",
       "      <td>199372.41</td>\n",
       "      <td>218671.85</td>\n",
       "      <td>433199.62</td>\n",
       "      <td>Texas</td>\n",
       "      <td>232901.99</td>\n",
       "      <td>1</td>\n",
       "    </tr>\n",
       "    <tr>\n",
       "      <th>4</th>\n",
       "      <td>197107.34</td>\n",
       "      <td>191391.77</td>\n",
       "      <td>416168.42</td>\n",
       "      <td>Washington</td>\n",
       "      <td>216187.94</td>\n",
       "      <td>3</td>\n",
       "    </tr>\n",
       "  </tbody>\n",
       "</table>\n",
       "</div>"
      ],
      "text/plain": [
       "   Productivity_Exp  Management_Exp  Promotions_Exp       State     Profit  \\\n",
       "0         220349.20       236897.80       521784.10       Texas  242261.83   \n",
       "1         217597.70       251377.59       493898.53    Illinois  241792.06   \n",
       "2         208441.51       201145.55       457934.54  Washington  241050.39   \n",
       "3         199372.41       218671.85       433199.62       Texas  232901.99   \n",
       "4         197107.34       191391.77       416168.42  Washington  216187.94   \n",
       "\n",
       "   State_encoded  \n",
       "0              1  \n",
       "1              2  \n",
       "2              3  \n",
       "3              1  \n",
       "4              3  "
      ]
     },
     "execution_count": 42,
     "metadata": {},
     "output_type": "execute_result"
    }
   ],
   "source": [
    "education_mapping={\"Texas\":1,\"Illinois\":2,'Washington':3}\n",
    "a[\"State_encoded\"]=a[\"State\"].map(education_mapping)\n",
    "a.head()"
   ]
  },
  {
   "cell_type": "markdown",
   "id": "4ce57495",
   "metadata": {},
   "source": [
    "# Conclusion"
   ]
  },
  {
   "cell_type": "markdown",
   "id": "5703aa48",
   "metadata": {},
   "source": [
    "\n",
    "* Productivity expenditure is the most significant predictor of company profit, followed by promotional expenditure. Management expenditure does not significantly impact profit.\n",
    "* The variation in expenditures and profits suggests diverse strategies and outcomes across different companies.\n",
    "* The encoded state information could be used in further analysis to check if the state has any significant impact on profit, although initial exploration focused on expenditure-related features.\n",
    "\n",
    "To enhance the analysis, further steps could include:\n",
    "\n",
    "* Building more complex models (e.g., multiple linear regression with interaction terms, decision trees, or random forests) to capture potential non-linear relationships.\n",
    "* Evaluating the model's performance using metrics such as R-squared, Mean Squared Error (MSE), or cross-validation scores.\n",
    "* Including state information in the regression model to see if it adds predictive power.\n"
   ]
  },
  {
   "cell_type": "code",
   "execution_count": null,
   "id": "05e60929",
   "metadata": {},
   "outputs": [],
   "source": []
  }
 ],
 "metadata": {
  "kernelspec": {
   "display_name": "Python 3 (ipykernel)",
   "language": "python",
   "name": "python3"
  },
  "language_info": {
   "codemirror_mode": {
    "name": "ipython",
    "version": 3
   },
   "file_extension": ".py",
   "mimetype": "text/x-python",
   "name": "python",
   "nbconvert_exporter": "python",
   "pygments_lexer": "ipython3",
   "version": "3.10.9"
  }
 },
 "nbformat": 4,
 "nbformat_minor": 5
}
